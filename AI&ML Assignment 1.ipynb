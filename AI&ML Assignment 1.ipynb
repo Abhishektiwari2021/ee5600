{
 "cells": [
  {
   "cell_type": "code",
   "execution_count": 1,
   "id": "1f2ea29f",
   "metadata": {},
   "outputs": [],
   "source": [
    "import numpy as np"
   ]
  },
  {
   "cell_type": "code",
   "execution_count": 2,
   "id": "5a1aa3d3",
   "metadata": {},
   "outputs": [
    {
     "data": {
      "text/plain": [
       "array([[ 0,  4,  1],\n",
       "       [ 3,  6,  1],\n",
       "       [-8, -2,  1]])"
      ]
     },
     "execution_count": 2,
     "metadata": {},
     "output_type": "execute_result"
    }
   ],
   "source": [
    "a = np.array([[0, 4, 1],[3, 6, 1],[-8, -2, 1]])        # to make a matrix by using given vertices of triangle \n",
    "a"
   ]
  },
  {
   "cell_type": "code",
   "execution_count": 4,
   "id": "a9d8c2ba",
   "metadata": {},
   "outputs": [
    {
     "data": {
      "text/plain": [
       "2"
      ]
     },
     "execution_count": 4,
     "metadata": {},
     "output_type": "execute_result"
    }
   ],
   "source": [
    "b = round(np.linalg.det(a))*(-1)           # calculate determinant of matrix\n",
    "b                                          # multiply by (-1) for positive value only"
   ]
  },
  {
   "cell_type": "code",
   "execution_count": 9,
   "id": "bb00fc1a",
   "metadata": {},
   "outputs": [
    {
     "name": "stdout",
     "output_type": "stream",
     "text": [
      "Area of triangle is: 1.0\n"
     ]
    }
   ],
   "source": [
    "Area = .5*b                               # area of triangle is half of the determinant (WKT)\n",
    "print(f\"Area of triangle is: {Area}\")"
   ]
  },
  {
   "cell_type": "code",
   "execution_count": null,
   "id": "285faf0f",
   "metadata": {},
   "outputs": [],
   "source": []
  }
 ],
 "metadata": {
  "kernelspec": {
   "display_name": "Python 3",
   "language": "python",
   "name": "python3"
  },
  "language_info": {
   "codemirror_mode": {
    "name": "ipython",
    "version": 3
   },
   "file_extension": ".py",
   "mimetype": "text/x-python",
   "name": "python",
   "nbconvert_exporter": "python",
   "pygments_lexer": "ipython3",
   "version": "3.8.8"
  }
 },
 "nbformat": 4,
 "nbformat_minor": 5
}
